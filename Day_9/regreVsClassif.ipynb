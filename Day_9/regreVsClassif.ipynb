{
 "cells": [
  {
   "cell_type": "markdown",
   "metadata": {},
   "source": [
    "Regression \t\t\t\t\t \n",
    "1) Numeric\t\t\t\t\t\n",
    "2) Metrices:\t\t\t\t\t\n",
    "  i)RSME\t  \t\t\t\t  \n",
    "  ii)MSE\t  \t\t\t\t  \n",
    "  iii)R2\t  \t\t\t\t \n",
    "  iv)mean absilute error(MAE)\t\t\t  \n",
    "\n",
    "\n",
    "classification\n",
    "1) categorical\n",
    "2) Metrices:\n",
    "  i)Accuracy score\n",
    "  ii)precision score\n",
    "  iii) recall score\n",
    "  iv)confusion matrix\n",
    "\tv)f1 scor\n"
   ]
  },
  {
   "cell_type": "code",
   "execution_count": null,
   "metadata": {},
   "outputs": [],
   "source": []
  }
 ],
 "metadata": {
  "language_info": {
   "name": "python"
  }
 },
 "nbformat": 4,
 "nbformat_minor": 2
}
