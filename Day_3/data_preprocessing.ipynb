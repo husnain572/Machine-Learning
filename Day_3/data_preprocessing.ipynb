{
 "cells": [
  {
   "cell_type": "markdown",
   "metadata": {},
   "source": [
    "\n",
    "### Techniques for Data Pre-processing:\n",
    "\n",
    "1. **Data Cleaning**:\n",
    "   - **Missing Values**: Handling data points with missing values by imputation or removal.\n",
    "   - **Smoothing Noisy Data**: Reducing noise or random fluctuations in the data to make patterns more discernible.\n",
    "   - **Outliers**: Identifying and addressing data points that significantly deviate from the rest of the dataset.\n",
    "   - **Inconsistency**: Resolving conflicts or discrepancies in the data to ensure coherence and reliability.\n",
    "\n",
    "2. **Data Integration**:\n",
    "   - **Data Integration**: Combining data from different sources or databases into a single coherent dataset.\n",
    "   - **Data Duplication**: Identifying and removing duplicate records to prevent redundancy in the dataset.\n",
    "   - **Data Merging**: Combining datasets with similar structures or formats into a unified dataset.\n",
    "   - **Data Consolidation**: Ensuring consistency and integrity by reconciling data from various sources.\n",
    "\n",
    "3. **Data Transformation**:\n",
    "   - **Scaling**: Rescaling data to a common scale to prevent certain features from dominating others.\n",
    "   - **Normalization**: Adjusting values to a common scale without distorting differences, often to a range between 0 and 1.\n",
    "   - **Data Aggregation**: Combining multiple data points into a single representation to reduce the size of the dataset.\n",
    "   - **Data Generalization**: Summarizing detailed data into more general forms to simplify analysis or protect privacy.\n",
    "   - **Higher-level Concepts**: Incorporating domain-specific knowledge or abstract representations into the data.\n",
    "\n",
    "4. **Data Reduction**:\n",
    "   - **Dimensionality Reduction**: Reducing the number of features or variables in the dataset while preserving its essential characteristics.\n",
    "   - **Numerosity Reduction**: Reducing the volume of data by selecting a representative subset of instances or samples.\n",
    "   - **Data Compression**: Compressing the size of the dataset by encoding information more efficiently.\n",
    "\n",
    "5. **Data Discretization**:\n",
    "   - **Numerical to Categorical**: Converting continuous numerical data into discrete categories or intervals.\n",
    "   - **Binning/Clustering**: Grouping data points into bins or clusters based on similarity or proximity.\n"
   ]
  },
  {
   "cell_type": "markdown",
   "metadata": {},
   "source": []
  }
 ],
 "metadata": {
  "language_info": {
   "name": "python"
  }
 },
 "nbformat": 4,
 "nbformat_minor": 2
}
