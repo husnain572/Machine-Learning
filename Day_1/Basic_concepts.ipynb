{
 "cells": [
  {
   "cell_type": "markdown",
   "metadata": {},
   "source": [
    "# What is Machine Learning?\n",
    "Machine learning is a subset of artificial intelligence (AI) that involves developing algorithms and statistical models that enable computers to learn and improve their performance on a specific task without being explicitly programmed. In other words, it allows computers to learn from data and make predictions or decisions based on that learning.\n",
    "\n",
    "# Types of Machine Learning\n",
    "Machine learning can be broadly categorized into three main types based on the nature of the learning process and the availability of labeled data:\n",
    "\n",
    "1. **Supervised Learning**:\n",
    "   - In supervised learning, the algorithm learns from labeled data, meaning each input data point is associated with a corresponding target label. The goal is to learn a mapping function from input variables to output variables. It's called \"supervised\" because the process of an algorithm learning from the training dataset is like a teacher supervising the learning process.\n",
    "   - Examples: \n",
    "     - Classification: Predicting discrete class labels (e.g., spam or not spam, cat or dog).\n",
    "     - Regression: Predicting continuous values (e.g., house prices, stock prices).\n",
    "\n",
    "2. **Unsupervised Learning**:\n",
    "   - In unsupervised learning, the algorithm learns from unlabeled data, meaning there are no predefined labels associated with the input data. The goal is to explore the structure of the data and extract meaningful insights or patterns.\n",
    "   - Examples:\n",
    "     - Clustering: Grouping similar data points into clusters based on their features.\n",
    "     - Dimensionality Reduction: Reducing the number of features in the data while preserving its essential structure.\n",
    "     - Anomaly Detection: Identifying outliers or anomalies in the data that deviate from normal behavior.\n",
    "\n",
    "3. **Reinforcement Learning**:\n",
    "   - In reinforcement learning, an agent learns to make decisions by interacting with an environment. The agent learns to achieve a goal (maximize rewards) through trial and error, receiving feedback in the form of rewards or penalties.\n",
    "   - Reinforcement learning is about learning optimal behavior by taking actions in an environment to maximize some notion of cumulative reward.\n",
    "   - Examples:\n",
    "     - Game Playing: Teaching a computer to play games (e.g., chess, Go) by learning from repeated gameplay and receiving rewards (wins or losses).\n",
    "     - Robotics: Training robots to perform tasks by providing rewards based on successful completion.\n",
    "\n",
    "4. **Semi-supervised Learning**:\n",
    "\n",
    "    Semi-supervised learning is a machine learning paradigm that lies between supervised and unsupervised learning. In semi-supervised learning, the algorithm learns from a dataset that contains both labeled and unlabeled data.\n",
    "\n",
    "    The availability of labeled data is often limited and expensive to acquire, while unlabeled data is more abundant and easier to obtain. Semi-supervised learning leverages this situation by utilizing both types of data to improve the performance of the learning algorithm."
   ]
  },
  {
   "cell_type": "markdown",
   "metadata": {},
   "source": []
  }
 ],
 "metadata": {
  "language_info": {
   "name": "python"
  }
 },
 "nbformat": 4,
 "nbformat_minor": 2
}
